{
 "cells": [
  {
   "cell_type": "code",
   "execution_count": 1,
   "id": "12124107-f489-4a7a-91ed-85f552956e4b",
   "metadata": {},
   "outputs": [
    {
     "name": "stderr",
     "output_type": "stream",
     "text": [
      "\n",
      "Attaching package: ‘dplyr’\n",
      "\n",
      "\n",
      "The following objects are masked from ‘package:data.table’:\n",
      "\n",
      "    between, first, last\n",
      "\n",
      "\n",
      "The following objects are masked from ‘package:stats’:\n",
      "\n",
      "    filter, lag\n",
      "\n",
      "\n",
      "The following objects are masked from ‘package:base’:\n",
      "\n",
      "    intersect, setdiff, setequal, union\n",
      "\n",
      "\n",
      "\n",
      "Attaching package: ‘mice’\n",
      "\n",
      "\n",
      "The following object is masked from ‘package:stats’:\n",
      "\n",
      "    filter\n",
      "\n",
      "\n",
      "The following objects are masked from ‘package:base’:\n",
      "\n",
      "    cbind, rbind\n",
      "\n",
      "\n"
     ]
    },
    {
     "data": {
      "text/html": [
       "<table class=\"dataframe\">\n",
       "<caption>A data.frame: 10 × 6</caption>\n",
       "<thead>\n",
       "\t<tr><th></th><th scope=col>PATO</th><th scope=col>CONPASS</th><th scope=col>MONASH</th><th scope=col>EIMDS</th><th scope=col>FOS</th><th scope=col>UKB</th></tr>\n",
       "\t<tr><th></th><th scope=col>&lt;dbl&gt;</th><th scope=col>&lt;dbl&gt;</th><th scope=col>&lt;dbl&gt;</th><th scope=col>&lt;dbl&gt;</th><th scope=col>&lt;dbl&gt;</th><th scope=col>&lt;chr&gt;</th></tr>\n",
       "</thead>\n",
       "<tbody>\n",
       "\t<tr><th scope=row>Age</th><td>0.00</td><td>0.00</td><td>0.00</td><td>0.00</td><td>0.00</td><td>0   </td></tr>\n",
       "\t<tr><th scope=row>BMI</th><td>0.01</td><td>0.01</td><td>0.07</td><td>0.00</td><td>0.00</td><td>0.01</td></tr>\n",
       "\t<tr><th scope=row>WC</th><td>0.13</td><td>0.15</td><td>0.13</td><td>0.01</td><td>0.01</td><td>0   </td></tr>\n",
       "\t<tr><th scope=row>SBP</th><td>0.00</td><td>0.00</td><td>0.06</td><td>0.00</td><td>0.00</td><td>0   </td></tr>\n",
       "\t<tr><th scope=row>DBP</th><td>0.00</td><td>0.00</td><td>0.06</td><td>0.00</td><td>0.00</td><td>0   </td></tr>\n",
       "\t<tr><th scope=row>TG</th><td>0.08</td><td>0.10</td><td>0.23</td><td>0.03</td><td>0.00</td><td>0.05</td></tr>\n",
       "\t<tr><th scope=row>LDL</th><td>0.10</td><td>0.11</td><td>0.24</td><td>0.03</td><td>0.02</td><td>0.05</td></tr>\n",
       "\t<tr><th scope=row>FBG</th><td>0.10</td><td>0.15</td><td>0.25</td><td>0.03</td><td>0.01</td><td>0.13</td></tr>\n",
       "\t<tr><th scope=row>PRC</th><td>0.00</td><td>0.07</td><td>0.11</td><td>0.05</td><td>0.00</td><td>0   </td></tr>\n",
       "\t<tr><th scope=row>PAC</th><td>0.00</td><td>0.01</td><td>0.10</td><td>0.05</td><td>0.00</td><td>-   </td></tr>\n",
       "</tbody>\n",
       "</table>\n"
      ],
      "text/latex": [
       "A data.frame: 10 × 6\n",
       "\\begin{tabular}{r|llllll}\n",
       "  & PATO & CONPASS & MONASH & EIMDS & FOS & UKB\\\\\n",
       "  & <dbl> & <dbl> & <dbl> & <dbl> & <dbl> & <chr>\\\\\n",
       "\\hline\n",
       "\tAge & 0.00 & 0.00 & 0.00 & 0.00 & 0.00 & 0   \\\\\n",
       "\tBMI & 0.01 & 0.01 & 0.07 & 0.00 & 0.00 & 0.01\\\\\n",
       "\tWC & 0.13 & 0.15 & 0.13 & 0.01 & 0.01 & 0   \\\\\n",
       "\tSBP & 0.00 & 0.00 & 0.06 & 0.00 & 0.00 & 0   \\\\\n",
       "\tDBP & 0.00 & 0.00 & 0.06 & 0.00 & 0.00 & 0   \\\\\n",
       "\tTG & 0.08 & 0.10 & 0.23 & 0.03 & 0.00 & 0.05\\\\\n",
       "\tLDL & 0.10 & 0.11 & 0.24 & 0.03 & 0.02 & 0.05\\\\\n",
       "\tFBG & 0.10 & 0.15 & 0.25 & 0.03 & 0.01 & 0.13\\\\\n",
       "\tPRC & 0.00 & 0.07 & 0.11 & 0.05 & 0.00 & 0   \\\\\n",
       "\tPAC & 0.00 & 0.01 & 0.10 & 0.05 & 0.00 & -   \\\\\n",
       "\\end{tabular}\n"
      ],
      "text/markdown": [
       "\n",
       "A data.frame: 10 × 6\n",
       "\n",
       "| <!--/--> | PATO &lt;dbl&gt; | CONPASS &lt;dbl&gt; | MONASH &lt;dbl&gt; | EIMDS &lt;dbl&gt; | FOS &lt;dbl&gt; | UKB &lt;chr&gt; |\n",
       "|---|---|---|---|---|---|---|\n",
       "| Age | 0.00 | 0.00 | 0.00 | 0.00 | 0.00 | 0    |\n",
       "| BMI | 0.01 | 0.01 | 0.07 | 0.00 | 0.00 | 0.01 |\n",
       "| WC | 0.13 | 0.15 | 0.13 | 0.01 | 0.01 | 0    |\n",
       "| SBP | 0.00 | 0.00 | 0.06 | 0.00 | 0.00 | 0    |\n",
       "| DBP | 0.00 | 0.00 | 0.06 | 0.00 | 0.00 | 0    |\n",
       "| TG | 0.08 | 0.10 | 0.23 | 0.03 | 0.00 | 0.05 |\n",
       "| LDL | 0.10 | 0.11 | 0.24 | 0.03 | 0.02 | 0.05 |\n",
       "| FBG | 0.10 | 0.15 | 0.25 | 0.03 | 0.01 | 0.13 |\n",
       "| PRC | 0.00 | 0.07 | 0.11 | 0.05 | 0.00 | 0    |\n",
       "| PAC | 0.00 | 0.01 | 0.10 | 0.05 | 0.00 | -    |\n",
       "\n"
      ],
      "text/plain": [
       "    PATO CONPASS MONASH EIMDS FOS  UKB \n",
       "Age 0.00 0.00    0.00   0.00  0.00 0   \n",
       "BMI 0.01 0.01    0.07   0.00  0.00 0.01\n",
       "WC  0.13 0.15    0.13   0.01  0.01 0   \n",
       "SBP 0.00 0.00    0.06   0.00  0.00 0   \n",
       "DBP 0.00 0.00    0.06   0.00  0.00 0   \n",
       "TG  0.08 0.10    0.23   0.03  0.00 0.05\n",
       "LDL 0.10 0.11    0.24   0.03  0.02 0.05\n",
       "FBG 0.10 0.15    0.25   0.03  0.01 0.13\n",
       "PRC 0.00 0.07    0.11   0.05  0.00 0   \n",
       "PAC 0.00 0.01    0.10   0.05  0.00 -   "
      ]
     },
     "metadata": {},
     "output_type": "display_data"
    }
   ],
   "source": [
    "library(data.table)\n",
    "library(dplyr)\n",
    "library(mice)\n",
    "library(ggplot2)\n",
    "\n",
    "set.seed(99)\n",
    "setwd(\"/home/luo_wenjin/data/IHA_ML/\")\n",
    "\n",
    "df1 <- fread('pato_raw.csv')\n",
    "df2 <- fread('conpass_raw.csv')\n",
    "df3 <- fread('monash_raw.csv')\n",
    "df4 <- fread('eimds_raw.csv')\n",
    "df5 <- fread('fos_raw.csv')\n",
    "df6 <- fread('ukb_raw.csv')\n",
    "\n",
    "source(\"00_utils.R\")\n",
    "\n",
    "# Missing rate\n",
    "missing_rates_df1 <- compute_missing_rate(df1[, c(2:10, 13)])\n",
    "missing_rates_df2 <- compute_missing_rate(df2[, c(2:10, 13)])\n",
    "missing_rates_df3 <- compute_missing_rate(df3[, c(2:10, 13)])\n",
    "missing_rates_df4 <- compute_missing_rate(df4[, c(1:9, 12)])\n",
    "missing_rates_df5 <- compute_missing_rate(df5[, c(1:9, 12)])\n",
    "missing_rates_df6 <- compute_missing_rate(df6[, 1:9])\n",
    "\n",
    "all_missing_rates <- cbind(missing_rates_df1, \n",
    "                           missing_rates_df2, \n",
    "                           missing_rates_df3,\n",
    "                           missing_rates_df4, \n",
    "                           missing_rates_df5)\n",
    "colnames(all_missing_rates) <- c('PATO', 'CONPASS', 'MONASH', 'EIMDS', 'FOS')\n",
    "all_missing_rates$UKB <- \"-\"\n",
    "all_missing_rates$UKB[1:9] <- missing_rates_df6$MissingRate\n",
    "all_missing_rates\n",
    "\n",
    "# Save missing rate \n",
    "fwrite(all_missing_rates,\n",
    "       '../table_and_figure/missing_rate.csv',\n",
    "       row.names = TRUE)"
   ]
  },
  {
   "cell_type": "code",
   "execution_count": 2,
   "id": "ed99e5b6-494a-4e6d-be18-642318cf0ac4",
   "metadata": {},
   "outputs": [
    {
     "name": "stdout",
     "output_type": "stream",
     "text": [
      "\n",
      " iter imp variable\n",
      "  1   1  BMI  WC  TG  LDL  FBG\n",
      "  1   2  BMI  WC  TG  LDL  FBG\n",
      "  1   3  BMI  WC  TG  LDL  FBG\n",
      "  1   4  BMI  WC  TG  LDL  FBG\n",
      "  1   5  BMI  WC  TG  LDL  FBG\n",
      "  2   1  BMI  WC  TG  LDL  FBG\n",
      "  2   2  BMI  WC  TG  LDL  FBG\n",
      "  2   3  BMI  WC  TG  LDL  FBG\n",
      "  2   4  BMI  WC  TG  LDL  FBG\n",
      "  2   5  BMI  WC  TG  LDL  FBG\n",
      "  3   1  BMI  WC  TG  LDL  FBG\n",
      "  3   2  BMI  WC  TG  LDL  FBG\n",
      "  3   3  BMI  WC  TG  LDL  FBG\n",
      "  3   4  BMI  WC  TG  LDL  FBG\n",
      "  3   5  BMI  WC  TG  LDL  FBG\n",
      "  4   1  BMI  WC  TG  LDL  FBG\n",
      "  4   2  BMI  WC  TG  LDL  FBG\n",
      "  4   3  BMI  WC  TG  LDL  FBG\n",
      "  4   4  BMI  WC  TG  LDL  FBG\n",
      "  4   5  BMI  WC  TG  LDL  FBG\n",
      "  5   1  BMI  WC  TG  LDL  FBG\n",
      "  5   2  BMI  WC  TG  LDL  FBG\n",
      "  5   3  BMI  WC  TG  LDL  FBG\n",
      "  5   4  BMI  WC  TG  LDL  FBG\n",
      "  5   5  BMI  WC  TG  LDL  FBG\n",
      "\n",
      " iter imp variable\n",
      "  1   1  BMI  WC  TG  LDL  FBG  PRC  PAC\n",
      "  1   2  BMI  WC  TG  LDL  FBG  PRC  PAC\n",
      "  1   3  BMI  WC  TG  LDL  FBG  PRC  PAC\n",
      "  1   4  BMI  WC  TG  LDL  FBG  PRC  PAC\n",
      "  1   5  BMI  WC  TG  LDL  FBG  PRC  PAC\n",
      "  2   1  BMI  WC  TG  LDL  FBG  PRC  PAC\n",
      "  2   2  BMI  WC  TG  LDL  FBG  PRC  PAC\n",
      "  2   3  BMI  WC  TG  LDL  FBG  PRC  PAC\n",
      "  2   4  BMI  WC  TG  LDL  FBG  PRC  PAC\n",
      "  2   5  BMI  WC  TG  LDL  FBG  PRC  PAC\n",
      "  3   1  BMI  WC  TG  LDL  FBG  PRC  PAC\n",
      "  3   2  BMI  WC  TG  LDL  FBG  PRC  PAC\n",
      "  3   3  BMI  WC  TG  LDL  FBG  PRC  PAC\n",
      "  3   4  BMI  WC  TG  LDL  FBG  PRC  PAC\n",
      "  3   5  BMI  WC  TG  LDL  FBG  PRC  PAC\n",
      "  4   1  BMI  WC  TG  LDL  FBG  PRC  PAC\n",
      "  4   2  BMI  WC  TG  LDL  FBG  PRC  PAC\n",
      "  4   3  BMI  WC  TG  LDL  FBG  PRC  PAC\n",
      "  4   4  BMI  WC  TG  LDL  FBG  PRC  PAC\n",
      "  4   5  BMI  WC  TG  LDL  FBG  PRC  PAC\n",
      "  5   1  BMI  WC  TG  LDL  FBG  PRC  PAC\n",
      "  5   2  BMI  WC  TG  LDL  FBG  PRC  PAC\n",
      "  5   3  BMI  WC  TG  LDL  FBG  PRC  PAC\n",
      "  5   4  BMI  WC  TG  LDL  FBG  PRC  PAC\n",
      "  5   5  BMI  WC  TG  LDL  FBG  PRC  PAC\n",
      "\n",
      " iter imp variable\n",
      "  1   1  BMI  WC  SBP  DBP  TG  LDL  FBG  PRC  PAC\n",
      "  1   2  BMI  WC  SBP  DBP  TG  LDL  FBG  PRC  PAC\n",
      "  1   3  BMI  WC  SBP  DBP  TG  LDL  FBG  PRC  PAC\n",
      "  1   4  BMI  WC  SBP  DBP  TG  LDL  FBG  PRC  PAC\n",
      "  1   5  BMI  WC  SBP  DBP  TG  LDL  FBG  PRC  PAC\n",
      "  2   1  BMI  WC  SBP  DBP  TG  LDL  FBG  PRC  PAC\n",
      "  2   2  BMI  WC  SBP  DBP  TG  LDL  FBG  PRC  PAC\n",
      "  2   3  BMI  WC  SBP  DBP  TG  LDL  FBG  PRC  PAC\n",
      "  2   4  BMI  WC  SBP  DBP  TG  LDL  FBG  PRC  PAC\n",
      "  2   5  BMI  WC  SBP  DBP  TG  LDL  FBG  PRC  PAC\n",
      "  3   1  BMI  WC  SBP  DBP  TG  LDL  FBG  PRC  PAC\n",
      "  3   2  BMI  WC  SBP  DBP  TG  LDL  FBG  PRC  PAC\n",
      "  3   3  BMI  WC  SBP  DBP  TG  LDL  FBG  PRC  PAC\n",
      "  3   4  BMI  WC  SBP  DBP  TG  LDL  FBG  PRC  PAC\n",
      "  3   5  BMI  WC  SBP  DBP  TG  LDL  FBG  PRC  PAC\n",
      "  4   1  BMI  WC  SBP  DBP  TG  LDL  FBG  PRC  PAC\n",
      "  4   2  BMI  WC  SBP  DBP  TG  LDL  FBG  PRC  PAC\n",
      "  4   3  BMI  WC  SBP  DBP  TG  LDL  FBG  PRC  PAC\n",
      "  4   4  BMI  WC  SBP  DBP  TG  LDL  FBG  PRC  PAC\n",
      "  4   5  BMI  WC  SBP  DBP  TG  LDL  FBG  PRC  PAC\n",
      "  5   1  BMI  WC  SBP  DBP  TG  LDL  FBG  PRC  PAC\n",
      "  5   2  BMI  WC  SBP  DBP  TG  LDL  FBG  PRC  PAC\n",
      "  5   3  BMI  WC  SBP  DBP  TG  LDL  FBG  PRC  PAC\n",
      "  5   4  BMI  WC  SBP  DBP  TG  LDL  FBG  PRC  PAC\n",
      "  5   5  BMI  WC  SBP  DBP  TG  LDL  FBG  PRC  PAC\n",
      "\n",
      " iter imp variable\n",
      "  1   1  BMI  WC  SBP  DBP  TG  LDL  FBG  PRC  PAC\n",
      "  1   2  BMI  WC  SBP  DBP  TG  LDL  FBG  PRC  PAC\n",
      "  1   3  BMI  WC  SBP  DBP  TG  LDL  FBG  PRC  PAC\n",
      "  1   4  BMI  WC  SBP  DBP  TG  LDL  FBG  PRC  PAC\n",
      "  1   5  BMI  WC  SBP  DBP  TG  LDL  FBG  PRC  PAC\n",
      "  2   1  BMI  WC  SBP  DBP  TG  LDL  FBG  PRC  PAC\n",
      "  2   2  BMI  WC  SBP  DBP  TG  LDL  FBG  PRC  PAC\n",
      "  2   3  BMI  WC  SBP  DBP  TG  LDL  FBG  PRC  PAC\n",
      "  2   4  BMI  WC  SBP  DBP  TG  LDL  FBG  PRC  PAC\n",
      "  2   5  BMI  WC  SBP  DBP  TG  LDL  FBG  PRC  PAC\n",
      "  3   1  BMI  WC  SBP  DBP  TG  LDL  FBG  PRC  PAC\n",
      "  3   2  BMI  WC  SBP  DBP  TG  LDL  FBG  PRC  PAC\n",
      "  3   3  BMI  WC  SBP  DBP  TG  LDL  FBG  PRC  PAC\n",
      "  3   4  BMI  WC  SBP  DBP  TG  LDL  FBG  PRC  PAC\n",
      "  3   5  BMI  WC  SBP  DBP  TG  LDL  FBG  PRC  PAC\n",
      "  4   1  BMI  WC  SBP  DBP  TG  LDL  FBG  PRC  PAC\n",
      "  4   2  BMI  WC  SBP  DBP  TG  LDL  FBG  PRC  PAC\n",
      "  4   3  BMI  WC  SBP  DBP  TG  LDL  FBG  PRC  PAC\n",
      "  4   4  BMI  WC  SBP  DBP  TG  LDL  FBG  PRC  PAC\n",
      "  4   5  BMI  WC  SBP  DBP  TG  LDL  FBG  PRC  PAC\n",
      "  5   1  BMI  WC  SBP  DBP  TG  LDL  FBG  PRC  PAC\n",
      "  5   2  BMI  WC  SBP  DBP  TG  LDL  FBG  PRC  PAC\n",
      "  5   3  BMI  WC  SBP  DBP  TG  LDL  FBG  PRC  PAC\n",
      "  5   4  BMI  WC  SBP  DBP  TG  LDL  FBG  PRC  PAC\n",
      "  5   5  BMI  WC  SBP  DBP  TG  LDL  FBG  PRC  PAC\n",
      "\n",
      " iter imp variable\n",
      "  1   1  BMI  WC  LDL  FBG\n",
      "  1   2  BMI  WC  LDL  FBG\n",
      "  1   3  BMI  WC  LDL  FBG\n",
      "  1   4  BMI  WC  LDL  FBG\n",
      "  1   5  BMI  WC  LDL  FBG\n",
      "  2   1  BMI  WC  LDL  FBG\n",
      "  2   2  BMI  WC  LDL  FBG\n",
      "  2   3  BMI  WC  LDL  FBG\n",
      "  2   4  BMI  WC  LDL  FBG\n",
      "  2   5  BMI  WC  LDL  FBG\n",
      "  3   1  BMI  WC  LDL  FBG\n",
      "  3   2  BMI  WC  LDL  FBG\n",
      "  3   3  BMI  WC  LDL  FBG\n",
      "  3   4  BMI  WC  LDL  FBG\n",
      "  3   5  BMI  WC  LDL  FBG\n",
      "  4   1  BMI  WC  LDL  FBG\n",
      "  4   2  BMI  WC  LDL  FBG\n",
      "  4   3  BMI  WC  LDL  FBG\n",
      "  4   4  BMI  WC  LDL  FBG\n",
      "  4   5  BMI  WC  LDL  FBG\n",
      "  5   1  BMI  WC  LDL  FBG\n",
      "  5   2  BMI  WC  LDL  FBG\n",
      "  5   3  BMI  WC  LDL  FBG\n",
      "  5   4  BMI  WC  LDL  FBG\n",
      "  5   5  BMI  WC  LDL  FBG\n",
      "\n",
      " iter imp variable\n",
      "  1   1  BMI  WC  SBP  DBP  TG  LDL  FBG\n",
      "  1   2  BMI  WC  SBP  DBP  TG  LDL  FBG\n",
      "  1   3  BMI  WC  SBP  DBP  TG  LDL  FBG\n",
      "  1   4  BMI  WC  SBP  DBP  TG  LDL  FBG\n",
      "  1   5  BMI  WC  SBP  DBP  TG  LDL  FBG\n",
      "  2   1  BMI  WC  SBP  DBP  TG  LDL  FBG\n",
      "  2   2  BMI  WC  SBP  DBP  TG  LDL  FBG\n",
      "  2   3  BMI  WC  SBP  DBP  TG  LDL  FBG\n",
      "  2   4  BMI  WC  SBP  DBP  TG  LDL  FBG\n",
      "  2   5  BMI  WC  SBP  DBP  TG  LDL  FBG\n",
      "  3   1  BMI  WC  SBP  DBP  TG  LDL  FBG\n",
      "  3   2  BMI  WC  SBP  DBP  TG  LDL  FBG\n",
      "  3   3  BMI  WC  SBP  DBP  TG  LDL  FBG\n",
      "  3   4  BMI  WC  SBP  DBP  TG  LDL  FBG\n",
      "  3   5  BMI  WC  SBP  DBP  TG  LDL  FBG\n",
      "  4   1  BMI  WC  SBP  DBP  TG  LDL  FBG\n",
      "  4   2  BMI  WC  SBP  DBP  TG  LDL  FBG\n",
      "  4   3  BMI  WC  SBP  DBP  TG  LDL  FBG\n",
      "  4   4  BMI  WC  SBP  DBP  TG  LDL  FBG\n",
      "  4   5  BMI  WC  SBP  DBP  TG  LDL  FBG\n",
      "  5   1  BMI  WC  SBP  DBP  TG  LDL  FBG\n",
      "  5   2  BMI  WC  SBP  DBP  TG  LDL  FBG\n",
      "  5   3  BMI  WC  SBP  DBP  TG  LDL  FBG\n",
      "  5   4  BMI  WC  SBP  DBP  TG  LDL  FBG\n",
      "  5   5  BMI  WC  SBP  DBP  TG  LDL  FBG\n"
     ]
    }
   ],
   "source": [
    "#data imputation\n",
    "set.seed(99)\n",
    "\n",
    "# Perform multiple imputation using mice\n",
    "imp1 <- mice(df1[, c(1:10, 13)])\n",
    "imp2 <- mice(df2[, c(1:10, 13)])\n",
    "imp3 <- mice(df3[, c(1:10, 13)])\n",
    "imp4 <- mice(df4[, c(1:9, 12)])\n",
    "imp5 <- mice(df5[, c(1:9, 12)])\n",
    "imp6 <- mice(df6[, c(1:9)])\n",
    "\n",
    "# Replace original data with imputed data\n",
    "df1[, c(1:10, 13)] <- complete(imp1)\n",
    "df2[, c(1:10, 13)] <- complete(imp2)\n",
    "df3[, c(1:10, 13)] <- complete(imp3)\n",
    "df4[, c(1:9, 12)] <- complete(imp4)\n",
    "df5[, c(1:9, 12)] <- complete(imp5)\n",
    "df6[, c(1:9)] <- complete(imp6)\n",
    "\n",
    "# Save imputed data\n",
    "fwrite(df1, 'pato_imp.csv', row.names = FALSE)\n",
    "fwrite(df2, 'conpass_imp.csv', row.names = FALSE)\n",
    "fwrite(df3, 'monash_imp.csv', row.names = FALSE)\n",
    "fwrite(df4, 'eimds_imp.csv', row.names = FALSE)\n",
    "fwrite(df5, 'fos_imp.csv', row.names = FALSE)\n",
    "fwrite(df6, 'ukb_imp.csv', row.names = FALSE)"
   ]
  },
  {
   "cell_type": "code",
   "execution_count": 3,
   "id": "f00d2b03-fba2-43f7-b726-70f6deea866c",
   "metadata": {},
   "outputs": [
    {
     "name": "stderr",
     "output_type": "stream",
     "text": [
      "Warning message:\n",
      "“\u001b[1m\u001b[22mA numeric `legend.position` argument in `theme()` was deprecated in ggplot2 3.5.0.\n",
      "\u001b[36mℹ\u001b[39m Please use the `legend.position.inside` argument of `theme()` instead.”\n",
      "Warning message:\n",
      "“\u001b[1m\u001b[22mRemoved 9 rows containing non-finite outside the scale range (`stat_density()`).”\n",
      "Warning message:\n",
      "“\u001b[1m\u001b[22mRemoved 207 rows containing non-finite outside the scale range (`stat_density()`).”\n",
      "Warning message:\n",
      "“\u001b[1m\u001b[22mRemoved 136 rows containing non-finite outside the scale range (`stat_density()`).”\n",
      "Warning message:\n",
      "“\u001b[1m\u001b[22mRemoved 171 rows containing non-finite outside the scale range (`stat_density()`).”\n",
      "Warning message:\n",
      "“\u001b[1m\u001b[22mRemoved 168 rows containing non-finite outside the scale range (`stat_density()`).”\n"
     ]
    },
    {
     "data": {
      "text/html": [
       "<strong>png:</strong> 2"
      ],
      "text/latex": [
       "\\textbf{png:} 2"
      ],
      "text/markdown": [
       "**png:** 2"
      ],
      "text/plain": [
       "png \n",
       "  2 "
      ]
     },
     "metadata": {},
     "output_type": "display_data"
    },
    {
     "name": "stderr",
     "output_type": "stream",
     "text": [
      "Warning message:\n",
      "“\u001b[1m\u001b[22mRemoved 9 rows containing non-finite outside the scale range (`stat_density()`).”\n",
      "Warning message:\n",
      "“\u001b[1m\u001b[22mRemoved 258 rows containing non-finite outside the scale range (`stat_density()`).”\n",
      "Warning message:\n",
      "“\u001b[1m\u001b[22mRemoved 176 rows containing non-finite outside the scale range (`stat_density()`).”\n",
      "Warning message:\n",
      "“\u001b[1m\u001b[22mRemoved 184 rows containing non-finite outside the scale range (`stat_density()`).”\n",
      "Warning message:\n",
      "“\u001b[1m\u001b[22mRemoved 259 rows containing non-finite outside the scale range (`stat_density()`).”\n",
      "Warning message:\n",
      "“\u001b[1m\u001b[22mRemoved 120 rows containing non-finite outside the scale range (`stat_density()`).”\n",
      "Warning message:\n",
      "“\u001b[1m\u001b[22mRemoved 24 rows containing non-finite outside the scale range (`stat_density()`).”\n"
     ]
    },
    {
     "data": {
      "text/html": [
       "<strong>png:</strong> 2"
      ],
      "text/latex": [
       "\\textbf{png:} 2"
      ],
      "text/markdown": [
       "**png:** 2"
      ],
      "text/plain": [
       "png \n",
       "  2 "
      ]
     },
     "metadata": {},
     "output_type": "display_data"
    },
    {
     "name": "stderr",
     "output_type": "stream",
     "text": [
      "Warning message:\n",
      "“\u001b[1m\u001b[22mRemoved 40 rows containing non-finite outside the scale range (`stat_density()`).”\n",
      "Warning message:\n",
      "“\u001b[1m\u001b[22mRemoved 72 rows containing non-finite outside the scale range (`stat_density()`).”\n",
      "Warning message:\n",
      "“\u001b[1m\u001b[22mRemoved 35 rows containing non-finite outside the scale range (`stat_density()`).”\n",
      "Warning message:\n",
      "“\u001b[1m\u001b[22mRemoved 35 rows containing non-finite outside the scale range (`stat_density()`).”\n",
      "Warning message:\n",
      "“\u001b[1m\u001b[22mRemoved 126 rows containing non-finite outside the scale range (`stat_density()`).”\n",
      "Warning message:\n",
      "“\u001b[1m\u001b[22mRemoved 132 rows containing non-finite outside the scale range (`stat_density()`).”\n",
      "Warning message:\n",
      "“\u001b[1m\u001b[22mRemoved 135 rows containing non-finite outside the scale range (`stat_density()`).”\n",
      "Warning message:\n",
      "“\u001b[1m\u001b[22mRemoved 58 rows containing non-finite outside the scale range (`stat_density()`).”\n",
      "Warning message:\n",
      "“\u001b[1m\u001b[22mRemoved 56 rows containing non-finite outside the scale range (`stat_density()`).”\n"
     ]
    },
    {
     "data": {
      "text/html": [
       "<strong>png:</strong> 2"
      ],
      "text/latex": [
       "\\textbf{png:} 2"
      ],
      "text/markdown": [
       "**png:** 2"
      ],
      "text/plain": [
       "png \n",
       "  2 "
      ]
     },
     "metadata": {},
     "output_type": "display_data"
    },
    {
     "name": "stderr",
     "output_type": "stream",
     "text": [
      "Warning message:\n",
      "“\u001b[1m\u001b[22mRemoved 3 rows containing non-finite outside the scale range (`stat_density()`).”\n",
      "Warning message:\n",
      "“\u001b[1m\u001b[22mRemoved 9 rows containing non-finite outside the scale range (`stat_density()`).”\n",
      "Warning message:\n",
      "“\u001b[1m\u001b[22mRemoved 2 rows containing non-finite outside the scale range (`stat_density()`).”\n",
      "Warning message:\n",
      "“\u001b[1m\u001b[22mRemoved 2 rows containing non-finite outside the scale range (`stat_density()`).”\n",
      "Warning message:\n",
      "“\u001b[1m\u001b[22mRemoved 38 rows containing non-finite outside the scale range (`stat_density()`).”\n",
      "Warning message:\n",
      "“\u001b[1m\u001b[22mRemoved 38 rows containing non-finite outside the scale range (`stat_density()`).”\n",
      "Warning message:\n",
      "“\u001b[1m\u001b[22mRemoved 42 rows containing non-finite outside the scale range (`stat_density()`).”\n",
      "Warning message:\n",
      "“\u001b[1m\u001b[22mRemoved 59 rows containing non-finite outside the scale range (`stat_density()`).”\n",
      "Warning message:\n",
      "“\u001b[1m\u001b[22mRemoved 59 rows containing non-finite outside the scale range (`stat_density()`).”\n"
     ]
    },
    {
     "data": {
      "text/html": [
       "<strong>png:</strong> 2"
      ],
      "text/latex": [
       "\\textbf{png:} 2"
      ],
      "text/markdown": [
       "**png:** 2"
      ],
      "text/plain": [
       "png \n",
       "  2 "
      ]
     },
     "metadata": {},
     "output_type": "display_data"
    },
    {
     "name": "stderr",
     "output_type": "stream",
     "text": [
      "Warning message:\n",
      "“\u001b[1m\u001b[22mRemoved 2 rows containing non-finite outside the scale range (`stat_density()`).”\n",
      "Warning message:\n",
      "“\u001b[1m\u001b[22mRemoved 14 rows containing non-finite outside the scale range (`stat_density()`).”\n",
      "Warning message:\n",
      "“\u001b[1m\u001b[22mRemoved 32 rows containing non-finite outside the scale range (`stat_density()`).”\n",
      "Warning message:\n",
      "“\u001b[1m\u001b[22mRemoved 21 rows containing non-finite outside the scale range (`stat_density()`).”\n"
     ]
    },
    {
     "data": {
      "text/html": [
       "<strong>png:</strong> 2"
      ],
      "text/latex": [
       "\\textbf{png:} 2"
      ],
      "text/markdown": [
       "**png:** 2"
      ],
      "text/plain": [
       "png \n",
       "  2 "
      ]
     },
     "metadata": {},
     "output_type": "display_data"
    },
    {
     "name": "stderr",
     "output_type": "stream",
     "text": [
      "Warning message:\n",
      "“\u001b[1m\u001b[22mRemoved 133 rows containing non-finite outside the scale range (`stat_density()`).”\n",
      "Warning message:\n",
      "“\u001b[1m\u001b[22mRemoved 74 rows containing non-finite outside the scale range (`stat_density()`).”\n",
      "Warning message:\n",
      "“\u001b[1m\u001b[22mRemoved 27 rows containing non-finite outside the scale range (`stat_density()`).”\n",
      "Warning message:\n",
      "“\u001b[1m\u001b[22mRemoved 27 rows containing non-finite outside the scale range (`stat_density()`).”\n",
      "Warning message:\n",
      "“\u001b[1m\u001b[22mRemoved 1051 rows containing non-finite outside the scale range (`stat_density()`).”\n",
      "Warning message:\n",
      "“\u001b[1m\u001b[22mRemoved 1079 rows containing non-finite outside the scale range (`stat_density()`).”\n",
      "Warning message:\n",
      "“\u001b[1m\u001b[22mRemoved 2725 rows containing non-finite outside the scale range (`stat_density()`).”\n"
     ]
    },
    {
     "data": {
      "text/html": [
       "<strong>png:</strong> 2"
      ],
      "text/latex": [
       "\\textbf{png:} 2"
      ],
      "text/markdown": [
       "**png:** 2"
      ],
      "text/plain": [
       "png \n",
       "  2 "
      ]
     },
     "metadata": {},
     "output_type": "display_data"
    },
    {
     "data": {
      "image/png": "[encoded data removed]",
      "text/plain": [
       "plot without title"
      ]
     },
     "metadata": {
      "image/png": {
       "height": 420,
       "width": 420
      }
     },
     "output_type": "display_data"
    }
   ],
   "source": [
    "# Example of density plot\n",
    "plot_density(imp1, df1[, 2])\n",
    "\n",
    "# Save density plots of raw and imputed data\n",
    "pdf(file = \"../table_and_figure/pato_imp_densityplot2.pdf\")\n",
    "plot_density(imp1, df1[, c(1:10, 13)])\n",
    "dev.off()\n",
    "\n",
    "pdf(file = \"../table_and_figure/conpass_imp_densityplot2.pdf\")\n",
    "plot_density(imp2, df2[, c(1:10, 13)])\n",
    "dev.off()\n",
    "\n",
    "pdf(file = \"../table_and_figure/monash_imp_densityplot2.pdf\")\n",
    "plot_density(imp3, df3[, c(1:10, 13)])\n",
    "dev.off()\n",
    "\n",
    "pdf(file = \"../table_and_figure/cqu_imp_densityplot2.pdf\")\n",
    "plot_density(imp4, df4[, c(1:9, 12)])\n",
    "dev.off()\n",
    "\n",
    "pdf(file = \"../table_and_figure/fhs_imp_densityplot2.pdf\")\n",
    "plot_density(imp5, df5[, c(1:9, 12)])\n",
    "dev.off()\n",
    "\n",
    "pdf(file = \"../table_and_figure/ukb_imp_densityplot2.pdf\")\n",
    "plot_density(imp6, df6[, c(1:9)])\n",
    "dev.off()"
   ]
  },
  {
   "cell_type": "code",
   "execution_count": 4,
   "id": "3a1a2885-5b5b-46e7-9606-40b42f46149e",
   "metadata": {},
   "outputs": [
    {
     "data": {
      "text/html": [
       "<ol>\n",
       "\t<li>'conpass_transform.csv'</li>\n",
       "\t<li>'eimds_transform.csv'</li>\n",
       "\t<li>'fos_transform.csv'</li>\n",
       "</ol>\n"
      ],
      "text/latex": [
       "\\begin{enumerate}\n",
       "\\item 'conpass\\_transform.csv'\n",
       "\\item 'eimds\\_transform.csv'\n",
       "\\item 'fos\\_transform.csv'\n",
       "\\end{enumerate}\n"
      ],
      "text/markdown": [
       "1. 'conpass_transform.csv'\n",
       "2. 'eimds_transform.csv'\n",
       "3. 'fos_transform.csv'\n",
       "\n",
       "\n"
      ],
      "text/plain": [
       "[[1]]\n",
       "[1] \"conpass_transform.csv\"\n",
       "\n",
       "[[2]]\n",
       "[1] \"eimds_transform.csv\"\n",
       "\n",
       "[[3]]\n",
       "[1] \"fos_transform.csv\"\n"
      ]
     },
     "metadata": {},
     "output_type": "display_data"
    },
    {
     "name": "stderr",
     "output_type": "stream",
     "text": [
      "Warning message in log(dt1$PRC):\n",
      "“NaNs produced”\n"
     ]
    },
    {
     "data": {
      "text/html": [
       "<ol>\n",
       "\t<li>'monash_transform.csv'</li>\n",
       "\t<li>'pato_transform.csv'</li>\n",
       "\t<li>'ukb_transform.csv'</li>\n",
       "</ol>\n"
      ],
      "text/latex": [
       "\\begin{enumerate}\n",
       "\\item 'monash\\_transform.csv'\n",
       "\\item 'pato\\_transform.csv'\n",
       "\\item 'ukb\\_transform.csv'\n",
       "\\end{enumerate}\n"
      ],
      "text/markdown": [
       "1. 'monash_transform.csv'\n",
       "2. 'pato_transform.csv'\n",
       "3. 'ukb_transform.csv'\n",
       "\n",
       "\n"
      ],
      "text/plain": [
       "[[1]]\n",
       "[1] \"monash_transform.csv\"\n",
       "\n",
       "[[2]]\n",
       "[1] \"pato_transform.csv\"\n",
       "\n",
       "[[3]]\n",
       "[1] \"ukb_transform.csv\"\n"
      ]
     },
     "metadata": {},
     "output_type": "display_data"
    }
   ],
   "source": [
    "# Data normalization\n",
    "file1 <- list.files(pattern = \"*imp.csv\")[1:3]\n",
    "file2 <- list.files(pattern = \"*imp.csv\")[4:6]\n",
    "\n",
    "# Apply transformation to files in file1\n",
    "lapply(file1, FUN = function(x) {\n",
    "  dt1 <- fread(x) %>% trans1()\n",
    "  file_name <- paste0(substring(x, 1, (nchar(x) - 7)), \"transform.csv\")\n",
    "  fwrite(dt1, file_name, row.names = FALSE)\n",
    "})\n",
    "\n",
    "# Apply transformation to files in file2\n",
    "lapply(file2, FUN = function(x) {\n",
    "  dt1 <- fread(x) %>% trans2()\n",
    "  file_name <- paste0(substring(x, 1, (nchar(x) - 7)), \"transform.csv\")\n",
    "  fwrite(dt1, file_name, row.names = FALSE)\n",
    "})"
   ]
  }
 ],
 "metadata": {
  "kernelspec": {
   "display_name": "R",
   "language": "R",
   "name": "ir"
  },
  "language_info": {
   "codemirror_mode": "r",
   "file_extension": ".r",
   "mimetype": "text/x-r-source",
   "name": "R",
   "pygments_lexer": "r",
   "version": "4.4.1"
  }
 },
 "nbformat": 4,
 "nbformat_minor": 5
}
